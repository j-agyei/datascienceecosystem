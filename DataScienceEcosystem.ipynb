{
 "cells": [
  {
   "cell_type": "markdown",
   "id": "6c6e4ec7-e230-485e-bf6d-182ed8ce11d2",
   "metadata": {
    "panel-layout": {
     "height": 60.59375,
     "visible": true,
     "width": 100
    }
   },
   "source": [
    "# Data Science Tools and Ecosystem"
   ]
  },
  {
   "cell_type": "markdown",
   "id": "ce2f3bc7-e20c-4138-9c39-a24023bc2313",
   "metadata": {
    "panel-layout": {
     "height": 51.140625,
     "visible": true,
     "width": 100
    }
   },
   "source": [
    "In this notebook, Data Science Tools and Ecosystem are summarized."
   ]
  },
  {
   "cell_type": "markdown",
   "id": "d32e5c38-4ce6-4daa-8887-eae84f9a44a3",
   "metadata": {
    "panel-layout": {
     "height": 51.140625,
     "visible": true,
     "width": 100
    }
   },
   "source": [
    "Some of the popular languages that Data Scientists use are:"
   ]
  },
  {
   "cell_type": "markdown",
   "id": "4ff47242-094e-42b3-8973-2ae08bfb3975",
   "metadata": {
    "panel-layout": {
     "height": 85.421875,
     "visible": true,
     "width": 100
    }
   },
   "source": [
    "1. Python\n",
    "2. R\n",
    "3. SQL"
   ]
  },
  {
   "cell_type": "markdown",
   "id": "c8bf2a5a-3e3a-4ec1-a17e-23270a9c5858",
   "metadata": {
    "panel-layout": {
     "height": 51.140625,
     "visible": true,
     "width": 100
    }
   },
   "source": [
    "Some of the commonly used libraries used by Data Scientists include:"
   ]
  },
  {
   "cell_type": "markdown",
   "id": "f03c1763-fd77-4468-ae9b-6e4678b588a3",
   "metadata": {
    "panel-layout": {
     "height": 85.421875,
     "visible": true,
     "width": 100
    }
   },
   "source": [
    "1. NumPy\n",
    "2. Pandas\n",
    "3. Matplotlib"
   ]
  },
  {
   "cell_type": "markdown",
   "id": "3cae52a6-3534-49b6-a63e-15b702d0ea77",
   "metadata": {
    "panel-layout": {
     "height": 123.5625,
     "visible": true,
     "width": 100
    }
   },
   "source": [
    "|Data Tools|\n",
    " :--------:\n",
    "|Jupyter Notebook|\n",
    "|TensorFlow|\n",
    "|NumPy|"
   ]
  },
  {
   "cell_type": "markdown",
   "id": "49b2aeb9-ceb1-4b25-953a-60bfb5a037b5",
   "metadata": {
    "panel-layout": {
     "height": 44.0859375,
     "visible": true,
     "width": 100
    }
   },
   "source": [
    "### Below are a few examples of evaluating arithmetic expressions in Python"
   ]
  },
  {
   "cell_type": "markdown",
   "id": "ced7bffd-8055-4d4c-a3b6-c4d780f8dd44",
   "metadata": {
    "panel-layout": {
     "height": 51.140625,
     "visible": true,
     "width": 100
    }
   },
   "source": [
    "This a simple arithmetic expression to mutiply then add integers"
   ]
  },
  {
   "cell_type": "code",
   "execution_count": 26,
   "id": "29a29dfe-8689-4211-b8d2-c154bdbccc72",
   "metadata": {
    "panel-layout": {
     "height": 27.140625,
     "visible": true,
     "width": 100
    }
   },
   "outputs": [
    {
     "data": {
      "text/plain": [
       "17"
      ]
     },
     "execution_count": 26,
     "metadata": {},
     "output_type": "execute_result"
    }
   ],
   "source": [
    "(3*4)+5"
   ]
  },
  {
   "cell_type": "markdown",
   "id": "df3edfbd-2944-4b16-ad98-b7e858cef02e",
   "metadata": {
    "panel-layout": {
     "height": 51.140625,
     "visible": true,
     "width": 100
    }
   },
   "source": [
    "This will convert 200 minutes to hours by diving by 60"
   ]
  },
  {
   "cell_type": "code",
   "execution_count": 38,
   "id": "fda943ad-aad2-4e14-9d84-4d17f7bb6a35",
   "metadata": {
    "panel-layout": {
     "height": 0,
     "visible": true,
     "width": 100
    }
   },
   "outputs": [
    {
     "name": "stdout",
     "output_type": "stream",
     "text": [
      "03:20\n"
     ]
    }
   ],
   "source": [
    "minutes = 200\n",
    "print(\"%02d:%02d\" % (divmod(minutes, 60)))"
   ]
  },
  {
   "cell_type": "markdown",
   "id": "521bb4ed-7d2a-4547-ac19-5c7b1018a7e3",
   "metadata": {
    "panel-layout": {
     "height": 51.140625,
     "visible": true,
     "width": 100
    }
   },
   "source": [
    "**Objectives:**"
   ]
  },
  {
   "cell_type": "markdown",
   "id": "2d4101da-bb6b-45d2-bce7-a226a32e00c3",
   "metadata": {},
   "source": [
    "- Java\n",
    "- R\n",
    "- Python\n",
    "- SQL\n",
    "- Julia"
   ]
  },
  {
   "cell_type": "markdown",
   "id": "2c2e2cfc-ef7c-4654-9992-c1f9448dab9d",
   "metadata": {},
   "source": [
    "## Author"
   ]
  },
  {
   "cell_type": "markdown",
   "id": "81268631-edf1-4dce-8542-cfa802474d87",
   "metadata": {},
   "source": [
    "Jeffrey Agyei"
   ]
  },
  {
   "cell_type": "code",
   "execution_count": null,
   "id": "dbddbc16-91c7-4a7c-814f-04b5e23ca60a",
   "metadata": {},
   "outputs": [],
   "source": []
  }
 ],
 "metadata": {
  "kernelspec": {
   "display_name": "Python 3 (ipykernel)",
   "language": "python",
   "name": "python3"
  },
  "language_info": {
   "codemirror_mode": {
    "name": "ipython",
    "version": 3
   },
   "file_extension": ".py",
   "mimetype": "text/x-python",
   "name": "python",
   "nbconvert_exporter": "python",
   "pygments_lexer": "ipython3",
   "version": "3.12.4"
  },
  "panel-cell-order": [
   "6c6e4ec7-e230-485e-bf6d-182ed8ce11d2",
   "ce2f3bc7-e20c-4138-9c39-a24023bc2313",
   "d32e5c38-4ce6-4daa-8887-eae84f9a44a3",
   "4ff47242-094e-42b3-8973-2ae08bfb3975",
   "c8bf2a5a-3e3a-4ec1-a17e-23270a9c5858",
   "f03c1763-fd77-4468-ae9b-6e4678b588a3",
   "3cae52a6-3534-49b6-a63e-15b702d0ea77",
   "49b2aeb9-ceb1-4b25-953a-60bfb5a037b5",
   "ced7bffd-8055-4d4c-a3b6-c4d780f8dd44",
   "29a29dfe-8689-4211-b8d2-c154bdbccc72",
   "df3edfbd-2944-4b16-ad98-b7e858cef02e",
   "f060e3eb-f5cb-4398-bf92-fc09e2d0fa57",
   "521bb4ed-7d2a-4547-ac19-5c7b1018a7e3"
  ]
 },
 "nbformat": 4,
 "nbformat_minor": 5
}
